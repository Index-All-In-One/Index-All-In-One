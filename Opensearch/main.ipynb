{
 "cells": [
  {
   "cell_type": "code",
   "execution_count": null,
   "metadata": {},
   "outputs": [],
   "source": [
    "from opensearchpy import OpenSearch\n",
    "import pandas as pd\n",
    "from datetime import datetime"
   ]
  },
  {
   "cell_type": "code",
   "execution_count": null,
   "metadata": {},
   "outputs": [],
   "source": [
    "my_datetime = datetime.utcnow().strftime('%Y-%m-%dT%H:%M:%SZ')\n",
    "print(my_datetime)\n",
    "\n",
    "my_datetime = datetime(2022, 2, 18, 12, 30, 0)\n",
    "print(my_datetime)"
   ]
  },
  {
   "attachments": {},
   "cell_type": "markdown",
   "metadata": {},
   "source": [
    "## Connect to OpenSearch\n",
    "Set the API endpoint URL, the search query and any required headers or parameters. Set the authentication credentials"
   ]
  },
  {
   "cell_type": "code",
   "execution_count": null,
   "metadata": {},
   "outputs": [],
   "source": [
    "client = OpenSearch(\n",
    "    hosts = [{\"host\": \"localhost\", \"port\": 9200}],\n",
    "    http_auth = (\"admin\", \"admin\"),\n",
    "    use_ssl = True,\n",
    "    verify_certs = False,\n",
    "    ssl_assert_hostname = False,\n",
    "    ssl_show_warn = False,\n",
    ")\n",
    "client.info()"
   ]
  },
  {
   "attachments": {},
   "cell_type": "markdown",
   "metadata": {},
   "source": [
    "## Create an Index"
   ]
  },
  {
   "cell_type": "code",
   "execution_count": null,
   "metadata": {},
   "outputs": [],
   "source": [
    "index_name = 'search_index'\n",
    "body = {\n",
    "  \"mappings\": {\n",
    "    \"properties\": {\n",
    "      \"doc_name\": {\n",
    "        \"type\": \"text\",\n",
    "        \"analyzer\": \"edge_ngram_analyzer\"\n",
    "      },\n",
    "      \"doc_type\": {\n",
    "        \"type\": \"text\",\n",
    "        \"analyzer\": \"standard\"\n",
    "      },\n",
    "      \"link\": {\n",
    "        \"type\": \"text\",\n",
    "        \"analyzer\": \"standard\"\n",
    "      },\n",
    "      \"source\": {\n",
    "        \"type\": \"text\",\n",
    "        \"analyzer\": \"standard\"\n",
    "      },\n",
    "      \"created_date\": {\n",
    "        \"type\" : \"date\",\n",
    "        \"format\" : \"strict_date_time_no_millis\"\n",
    "      },\n",
    "      \"modified_date\": {\n",
    "        \"type\" : \"date\",\n",
    "        \"format\" : \"strict_date_time_no_millis\"\n",
    "      },\n",
    "      \"summary\": {\n",
    "        \"type\" : \"text\",\n",
    "        \"analyzer\": \"standard\"\n",
    "      },\n",
    "      \"file_size\": {\n",
    "        \"type\" : \"integer\",\n",
    "      }\n",
    "    }\n",
    "  },\n",
    "  \"settings\": {\n",
    "    \"analysis\": {\n",
    "      \"analyzer\": {\n",
    "        \"edge_ngram_analyzer\": {\n",
    "          \"type\": \"custom\",\n",
    "          \"tokenizer\": \"standard\",\n",
    "          \"filter\": [\"lowercase\", \"edge_ngram_filter\"]\n",
    "        }\n",
    "      },\n",
    "      \"filter\": {\n",
    "        \"edge_ngram_filter\": {\n",
    "          \"type\": \"edge_ngram\",\n",
    "          \"min_gram\": 2,\n",
    "          \"max_gram\": 10\n",
    "        }\n",
    "      }\n",
    "    }\n",
    "  }\n",
    "}\n",
    "response = client.indices.create(index=index_name, body=body)"
   ]
  },
  {
   "attachments": {},
   "cell_type": "markdown",
   "metadata": {},
   "source": [
    "## Add data to index"
   ]
  },
  {
   "attachments": {},
   "cell_type": "markdown",
   "metadata": {},
   "source": [
    "First check the number of items in the index."
   ]
  },
  {
   "cell_type": "code",
   "execution_count": null,
   "metadata": {},
   "outputs": [],
   "source": [
    "doc_name = \"Google\"\n",
    "doc_type = \"txt\"\n",
    "link = \"https://www.google.com/\"\n",
    "source = \"Gmail\"\n",
    "created_date = datetime(2022, 2, 18, 12, 30, 0).strftime('%Y-%m-%dT%H:%M:%SZ')\n",
    "modified_date = datetime.utcnow().strftime('%Y-%m-%dT%H:%M:%SZ')\n",
    "summary = \"Google is a multinational technology company that specializes in Internet-related services and products. It was founded in 1998 by Larry Page and Sergey Brin, who were graduate students at Stanford University at the time. Today, Google is one of the largest and most influential companies in the world, with a market capitalization of over $1 trillion.\"\n",
    "file_size = len(summary.encode('utf-8'))\n",
    "item1 = {\n",
    "    \"doc_name\": doc_name,\n",
    "    \"doc_type\": doc_type,\n",
    "    \"link\": link,\n",
    "    \"source\": source,\n",
    "    \"created_date\": created_date,\n",
    "    \"modified_date\": modified_date,\n",
    "    \"summary\": summary,\n",
    "    \"file_size\": file_size\n",
    "}\n",
    "\n",
    "\n",
    "doc_name = \"Youtube\"\n",
    "doc_type = \"txt\"\n",
    "link = \"https://www.google.com/\"\n",
    "source = \"Google drive\"\n",
    "created_date = datetime(2022, 2, 18, 12, 30, 0).strftime('%Y-%m-%dT%H:%M:%SZ')\n",
    "modified_date = datetime.utcnow().strftime('%Y-%m-%dT%H:%M:%SZ')\n",
    "summary = \"YouTube is a video-sharing website and online platform that allows users to upload, share, and view videos. It was founded in 2005 by three former PayPal employees, and was later acquired by Google in 2006. Today, YouTube is one of the largest websites in the world, with over 2 billion monthly active users and over 1 billion hours of video watched daily.\"\n",
    "file_size = len(summary.encode('utf-8'))\n",
    "\n",
    "item2 = {\n",
    "    \"doc_name\": doc_name,\n",
    "    \"doc_type\": doc_type,\n",
    "    \"link\": link,\n",
    "    \"source\": source,\n",
    "    \"created_date\": created_date,\n",
    "    \"modified_date\": modified_date,\n",
    "    \"summary\": summary,\n",
    "    \"file_size\": file_size\n",
    "}\n",
    "to_be_inserted = []\n",
    "to_be_inserted.append(item1)\n",
    "to_be_inserted.append(item2)\n",
    "print(to_be_inserted)"
   ]
  },
  {
   "cell_type": "code",
   "execution_count": null,
   "metadata": {},
   "outputs": [],
   "source": [
    "response = client.count(index=index_name)\n",
    "id = int(response['count'])\n",
    "print(id)"
   ]
  },
  {
   "cell_type": "code",
   "execution_count": null,
   "metadata": {},
   "outputs": [],
   "source": [
    "for body in to_be_inserted:\n",
    "    client.index(index=index_name, id=str(id),body=body)\n",
    "    id += 1"
   ]
  },
  {
   "cell_type": "code",
   "execution_count": null,
   "metadata": {},
   "outputs": [],
   "source": [
    "response = client.count(index=index_name)\n",
    "id = int(response['count'])\n",
    "print(id)"
   ]
  },
  {
   "attachments": {},
   "cell_type": "markdown",
   "metadata": {},
   "source": [
    "## Search Data"
   ]
  },
  {
   "cell_type": "code",
   "execution_count": null,
   "metadata": {},
   "outputs": [],
   "source": [
    "\n",
    "response = client.search(\n",
    "    index=index_name,\n",
    "    body={\n",
    "        \"query\": {\n",
    "            \"match\": {\n",
    "                \"doc_name\": \"Youtube\"\n",
    "            }\n",
    "        }          \n",
    "    }\n",
    ")\n",
    "\n",
    "response = client.search(\n",
    "    index=index_name,\n",
    "    body={\n",
    "        \"query\": {\n",
    "            \"match_all\": {}\n",
    "        }        \n",
    "    }\n",
    ")\n",
    "\n",
    "print(response)\n",
    "print(type(response))"
   ]
  },
  {
   "attachments": {},
   "cell_type": "markdown",
   "metadata": {},
   "source": [
    "## Delete document from index"
   ]
  },
  {
   "cell_type": "code",
   "execution_count": null,
   "metadata": {},
   "outputs": [],
   "source": [
    "client.delete(index = index_name, id = \"1\")"
   ]
  },
  {
   "attachments": {},
   "cell_type": "markdown",
   "metadata": {},
   "source": [
    "## Delete an index"
   ]
  },
  {
   "cell_type": "code",
   "execution_count": null,
   "metadata": {},
   "outputs": [],
   "source": [
    "client.indices.delete(index=index_name)"
   ]
  }
 ],
 "metadata": {
  "kernelspec": {
   "display_name": "venv",
   "language": "python",
   "name": "python3"
  },
  "language_info": {
   "codemirror_mode": {
    "name": "ipython",
    "version": 3
   },
   "file_extension": ".py",
   "mimetype": "text/x-python",
   "name": "python",
   "nbconvert_exporter": "python",
   "pygments_lexer": "ipython3",
   "version": "3.8.2"
  },
  "orig_nbformat": 4,
  "vscode": {
   "interpreter": {
    "hash": "405d7baaf6ff18c9b5ec1e0f4d3b22dbc72c84c3a191d449a3e2248b2a2cfb2b"
   }
  }
 },
 "nbformat": 4,
 "nbformat_minor": 2
}
