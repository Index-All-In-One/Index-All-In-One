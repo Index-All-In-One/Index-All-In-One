{
 "cells": [
  {
   "cell_type": "code",
   "execution_count": 30,
   "metadata": {},
   "outputs": [],
   "source": [
    "from opensearchpy import OpenSearch\n",
    "import pandas as pd\n",
    "from datetime import datetime"
   ]
  },
  {
   "attachments": {},
   "cell_type": "markdown",
   "metadata": {},
   "source": [
    "## Connect to OpenSearch\n",
    "Set the API endpoint URL, the search query and any required headers or parameters. Set the authentication credentials"
   ]
  },
  {
   "cell_type": "code",
   "execution_count": 31,
   "metadata": {},
   "outputs": [
    {
     "data": {
      "text/plain": [
       "{'name': 'opensearch-node1',\n",
       " 'cluster_name': 'opensearch-cluster',\n",
       " 'cluster_uuid': 'qPUqDsgnSoKoMiCuxecfyw',\n",
       " 'version': {'distribution': 'opensearch',\n",
       "  'number': '2.5.0',\n",
       "  'build_type': 'tar',\n",
       "  'build_hash': 'b8a8b6c4d7fc7a7e32eb2cb68ecad8057a4636ad',\n",
       "  'build_date': '2023-01-18T23:48:48.981786100Z',\n",
       "  'build_snapshot': False,\n",
       "  'lucene_version': '9.4.2',\n",
       "  'minimum_wire_compatibility_version': '7.10.0',\n",
       "  'minimum_index_compatibility_version': '7.0.0'},\n",
       " 'tagline': 'The OpenSearch Project: https://opensearch.org/'}"
      ]
     },
     "execution_count": 31,
     "metadata": {},
     "output_type": "execute_result"
    }
   ],
   "source": [
    "client = OpenSearch(\n",
    "    hosts = [{\"host\": \"localhost\", \"port\": 9200}],\n",
    "    http_auth = (\"admin\", \"admin\"),\n",
    "    use_ssl = True,\n",
    "    verify_certs = False,\n",
    "    ssl_assert_hostname = False,\n",
    "    ssl_show_warn = False,\n",
    ")\n",
    "client.info()"
   ]
  },
  {
   "attachments": {},
   "cell_type": "markdown",
   "metadata": {},
   "source": [
    "## Create an Index"
   ]
  },
  {
   "cell_type": "code",
   "execution_count": 32,
   "metadata": {},
   "outputs": [],
   "source": [
    "index_name = 'search_index'\n",
    "body = {\n",
    "  \"mappings\": {\n",
    "    \"properties\": {\n",
    "      \"doc_name\": {\n",
    "        \"type\": \"text\",\n",
    "        \"analyzer\": \"edge_ngram_analyzer\"\n",
    "      },\n",
    "      \"doc_type\": {\n",
    "        \"type\": \"text\",\n",
    "        \"analyzer\": \"standard\"\n",
    "      },\n",
    "      \"link\": {\n",
    "        \"type\": \"text\",\n",
    "        \"analyzer\": \"standard\"\n",
    "      },\n",
    "      \"source\": {\n",
    "        \"type\": \"text\",\n",
    "        \"analyzer\": \"standard\"\n",
    "      },\n",
    "      \"created_date\": {\n",
    "        \"type\" : \"date\",\n",
    "        \"format\" : \"basic_date_time_no_millis\"\n",
    "      },\n",
    "      \"modified_date\": {\n",
    "        \"type\" : \"date\",\n",
    "        \"format\" : \"basic_date_time_no_millis\"\n",
    "      },\n",
    "      \"summary\": {\n",
    "        \"type\" : \"text\",\n",
    "        \"analyzer\": \"standard\"\n",
    "      },\n",
    "      \"file_size\": {\n",
    "        \"type\" : \"text\",\n",
    "        \"analyzer\": \"standard\"\n",
    "      }\n",
    "    }\n",
    "  },\n",
    "  \"settings\": {\n",
    "    \"analysis\": {\n",
    "      \"analyzer\": {\n",
    "        \"edge_ngram_analyzer\": {\n",
    "          \"type\": \"custom\",\n",
    "          \"tokenizer\": \"standard\",\n",
    "          \"filter\": [\"lowercase\", \"edge_ngram_filter\"]\n",
    "        }\n",
    "      },\n",
    "      \"filter\": {\n",
    "        \"edge_ngram_filter\": {\n",
    "          \"type\": \"edge_ngram\",\n",
    "          \"min_gram\": 2,\n",
    "          \"max_gram\": 10\n",
    "        }\n",
    "      }\n",
    "    }\n",
    "  }\n",
    "}\n",
    "response = client.indices.create(index=index_name, body=body)"
   ]
  },
  {
   "attachments": {},
   "cell_type": "markdown",
   "metadata": {},
   "source": [
    "## Add data to index"
   ]
  },
  {
   "attachments": {},
   "cell_type": "markdown",
   "metadata": {},
   "source": [
    "First check the number of items in the index."
   ]
  },
  {
   "cell_type": "code",
   "execution_count": 33,
   "metadata": {},
   "outputs": [
    {
     "name": "stdout",
     "output_type": "stream",
     "text": [
      "0\n"
     ]
    }
   ],
   "source": [
    "response = client.count(index=index_name)\n",
    "id = int(response['count'])\n",
    "print(id)"
   ]
  },
  {
   "cell_type": "code",
   "execution_count": 34,
   "metadata": {},
   "outputs": [],
   "source": [
    "item1 = {\n",
    "    \"doc_name\": \"doc1\",\n",
    "    \"doc_type\": \"txt\",\n",
    "    \"link\": \"https://www.google.com/\",\n",
    "    \"source\": \"Gmail\",\n",
    "    \"date\": None\n",
    "}\n",
    "item2 = {\n",
    "    \"doc_name\": \"doc2\",\n",
    "    \"doc_type\": \"txt\",\n",
    "    \"link\": \"https://www.youtube.com/\",\n",
    "    \"source\": \"Gmail\",\n",
    "    \"date\": None\n",
    "}\n",
    "to_be_inserted = []\n",
    "to_be_inserted.append(item1)\n",
    "to_be_inserted.append(item2)"
   ]
  },
  {
   "cell_type": "code",
   "execution_count": 35,
   "metadata": {},
   "outputs": [],
   "source": [
    "for body in to_be_inserted:\n",
    "    client.index(index=index_name, id=str(id),body=body)\n",
    "    id += 1"
   ]
  },
  {
   "cell_type": "code",
   "execution_count": 36,
   "metadata": {},
   "outputs": [
    {
     "name": "stdout",
     "output_type": "stream",
     "text": [
      "2\n"
     ]
    }
   ],
   "source": [
    "response = client.count(index=index_name)\n",
    "id = int(response['count'])\n",
    "print(id)"
   ]
  },
  {
   "attachments": {},
   "cell_type": "markdown",
   "metadata": {},
   "source": [
    "## Search Data"
   ]
  },
  {
   "cell_type": "code",
   "execution_count": 38,
   "metadata": {},
   "outputs": [
    {
     "name": "stdout",
     "output_type": "stream",
     "text": [
      "{'took': 22, 'timed_out': False, '_shards': {'total': 1, 'successful': 1, 'skipped': 0, 'failed': 0}, 'hits': {'total': {'value': 2, 'relation': 'eq'}, 'max_score': 0.33425623, 'hits': [{'_index': 'search_index', '_id': '0', '_score': 0.33425623, '_source': {'doc_name': 'doc1', 'doc_type': 'txt', 'link': 'https://www.google.com/', 'source': 'Gmail', 'date': None}}, {'_index': 'search_index', '_id': '1', '_score': 0.3085442, '_source': {'doc_name': 'doc2', 'doc_type': 'txt', 'link': 'https://www.youtube.com/', 'source': 'Gmail', 'date': None}}]}}\n",
      "<class 'dict'>\n"
     ]
    }
   ],
   "source": [
    "\n",
    "response = client.search(\n",
    "    index=index_name,\n",
    "    body={\n",
    "        \"query\": {\n",
    "            \"match\": {\n",
    "                \"doc_name\": \"doc1\"\n",
    "            }\n",
    "        }          \n",
    "    }\n",
    ")\n",
    "print(response)\n",
    "print(type(response))"
   ]
  },
  {
   "attachments": {},
   "cell_type": "markdown",
   "metadata": {},
   "source": [
    "## Delete document from index"
   ]
  },
  {
   "cell_type": "code",
   "execution_count": 26,
   "metadata": {},
   "outputs": [
    {
     "data": {
      "text/plain": [
       "{'_index': 'search_index',\n",
       " '_id': '1',\n",
       " '_version': 2,\n",
       " 'result': 'deleted',\n",
       " '_shards': {'total': 2, 'successful': 2, 'failed': 0},\n",
       " '_seq_no': 4,\n",
       " '_primary_term': 1}"
      ]
     },
     "execution_count": 26,
     "metadata": {},
     "output_type": "execute_result"
    }
   ],
   "source": [
    "client.delete(index = index_name, id = \"1\")"
   ]
  },
  {
   "attachments": {},
   "cell_type": "markdown",
   "metadata": {},
   "source": [
    "## Delete an index"
   ]
  },
  {
   "cell_type": "code",
   "execution_count": 28,
   "metadata": {},
   "outputs": [
    {
     "data": {
      "text/plain": [
       "{'acknowledged': True}"
      ]
     },
     "execution_count": 28,
     "metadata": {},
     "output_type": "execute_result"
    }
   ],
   "source": [
    "client.indices.delete(index=index_name)"
   ]
  }
 ],
 "metadata": {
  "kernelspec": {
   "display_name": "venv",
   "language": "python",
   "name": "python3"
  },
  "language_info": {
   "codemirror_mode": {
    "name": "ipython",
    "version": 3
   },
   "file_extension": ".py",
   "mimetype": "text/x-python",
   "name": "python",
   "nbconvert_exporter": "python",
   "pygments_lexer": "ipython3",
   "version": "3.8.2"
  },
  "orig_nbformat": 4,
  "vscode": {
   "interpreter": {
    "hash": "adbadd75a7cecca27afb16fc12bc086e22f7a825122269fb2047c5fc39c93cf9"
   }
  }
 },
 "nbformat": 4,
 "nbformat_minor": 2
}
