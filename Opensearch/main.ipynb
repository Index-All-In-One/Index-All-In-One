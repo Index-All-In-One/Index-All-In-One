{
 "cells": [
  {
   "cell_type": "code",
   "execution_count": 1,
   "metadata": {},
   "outputs": [],
   "source": [
    "from opensearchpy import OpenSearch\n",
    "import pandas as pd\n",
    "from datetime import datetime"
   ]
  },
  {
   "attachments": {},
   "cell_type": "markdown",
   "metadata": {},
   "source": [
    "## Connect to OpenSearch\n",
    "Set the API endpoint URL, the search query and any required headers or parameters. Set the authentication credentials"
   ]
  },
  {
   "cell_type": "code",
   "execution_count": 2,
   "metadata": {},
   "outputs": [
    {
     "data": {
      "text/plain": [
       "{'name': 'opensearch-node1',\n",
       " 'cluster_name': 'opensearch-cluster',\n",
       " 'cluster_uuid': 'qPUqDsgnSoKoMiCuxecfyw',\n",
       " 'version': {'distribution': 'opensearch',\n",
       "  'number': '2.5.0',\n",
       "  'build_type': 'tar',\n",
       "  'build_hash': 'b8a8b6c4d7fc7a7e32eb2cb68ecad8057a4636ad',\n",
       "  'build_date': '2023-01-18T23:48:48.981786100Z',\n",
       "  'build_snapshot': False,\n",
       "  'lucene_version': '9.4.2',\n",
       "  'minimum_wire_compatibility_version': '7.10.0',\n",
       "  'minimum_index_compatibility_version': '7.0.0'},\n",
       " 'tagline': 'The OpenSearch Project: https://opensearch.org/'}"
      ]
     },
     "execution_count": 2,
     "metadata": {},
     "output_type": "execute_result"
    }
   ],
   "source": [
    "client = OpenSearch(\n",
    "    hosts = [{\"host\": \"localhost\", \"port\": 9200}],\n",
    "    http_auth = (\"admin\", \"admin\"),\n",
    "    use_ssl = True,\n",
    "    verify_certs = False,\n",
    "    ssl_assert_hostname = False,\n",
    "    ssl_show_warn = False,\n",
    ")\n",
    "client.info()"
   ]
  },
  {
   "attachments": {},
   "cell_type": "markdown",
   "metadata": {},
   "source": [
    "## Create an Index"
   ]
  },
  {
   "cell_type": "code",
   "execution_count": 6,
   "metadata": {},
   "outputs": [],
   "source": [
    "index_name = 'search_index'\n",
    "body = {\n",
    "  \"mappings\": {\n",
    "    \"properties\": {\n",
    "      \"doc_name\": {\n",
    "        \"type\": \"text\",\n",
    "        \"analyzer\": \"edge_ngram_analyzer\"\n",
    "      },\n",
    "      \"doc_type\": {\n",
    "        \"type\": \"text\",\n",
    "        \"analyzer\": \"standard\"\n",
    "      },\n",
    "      \"link\": {\n",
    "        \"type\": \"text\",\n",
    "        \"analyzer\": \"standard\"\n",
    "      },\n",
    "      \"source\": {\n",
    "        \"type\": \"text\",\n",
    "        \"analyzer\": \"standard\"\n",
    "      },\n",
    "      \"created_date\": {\n",
    "        \"type\" : \"date\",\n",
    "        \"format\" : \"strict_date_time_no_millis\"\n",
    "      },\n",
    "      \"modified_date\": {\n",
    "        \"type\" : \"date\",\n",
    "        \"format\" : \"strict_date_time_no_millis\"\n",
    "      },\n",
    "      \"summary\": {\n",
    "        \"type\" : \"text\",\n",
    "        \"analyzer\": \"standard\"\n",
    "      },\n",
    "      \"file_size\": {\n",
    "        \"type\" : \"integer\",\n",
    "      }\n",
    "    }\n",
    "  },\n",
    "  \"settings\": {\n",
    "    \"analysis\": {\n",
    "      \"analyzer\": {\n",
    "        \"edge_ngram_analyzer\": {\n",
    "          \"type\": \"custom\",\n",
    "          \"tokenizer\": \"standard\",\n",
    "          \"filter\": [\"lowercase\", \"edge_ngram_filter\"]\n",
    "        }\n",
    "      },\n",
    "      \"filter\": {\n",
    "        \"edge_ngram_filter\": {\n",
    "          \"type\": \"edge_ngram\",\n",
    "          \"min_gram\": 2,\n",
    "          \"max_gram\": 10\n",
    "        }\n",
    "      }\n",
    "    }\n",
    "  }\n",
    "}\n",
    "response = client.indices.create(index=index_name, body=body)"
   ]
  },
  {
   "attachments": {},
   "cell_type": "markdown",
   "metadata": {},
   "source": [
    "## Add data to index"
   ]
  },
  {
   "attachments": {},
   "cell_type": "markdown",
   "metadata": {},
   "source": [
    "First check the number of items in the index."
   ]
  },
  {
   "cell_type": "code",
   "execution_count": 9,
   "metadata": {},
   "outputs": [],
   "source": [
    "doc_name = \"Google\"\n",
    "doc_type = \"txt\"\n",
    "link = \"https://www.google.com/\"\n",
    "source = \"Gmail\"\n",
    "created_date = datetime(2022, 2, 18, 12, 30, 0).strftime('%Y-%m-%dT%H:%M:%SZ')\n",
    "modified_date = datetime.utcnow().strftime('%Y-%m-%dT%H:%M:%SZ')\n",
    "summary = \"Google is a multinational technology company that specializes in Internet-related services and products. It was founded in 1998 by Larry Page and Sergey Brin, who were graduate students at Stanford University at the time. Today, Google is one of the largest and most influential companies in the world, with a market capitalization of over $1 trillion.\"\n",
    "file_size = len(summary.encode('utf-8'))\n",
    "item1 = {\n",
    "    \"doc_name\": doc_name,\n",
    "    \"doc_type\": doc_type,\n",
    "    \"link\": link,\n",
    "    \"source\": source,\n",
    "    \"created_date\": created_date,\n",
    "    \"modified_date\": modified_date,\n",
    "    \"summary\": summary,\n",
    "    \"file_size\": file_size\n",
    "}\n",
    "\n",
    "\n",
    "doc_name = \"Youtube\"\n",
    "doc_type = \"txt\"\n",
    "link = \"https://www.google.com/\"\n",
    "source = \"Google drive\"\n",
    "created_date = datetime(2022, 2, 18, 12, 30, 0).strftime('%Y-%m-%dT%H:%M:%SZ')\n",
    "modified_date = datetime.utcnow().strftime('%Y-%m-%dT%H:%M:%SZ')\n",
    "summary = \"YouTube is a video-sharing website and online platform that allows users to upload, share, and view videos. It was founded in 2005 by three former PayPal employees, and was later acquired by Google in 2006. Today, YouTube is one of the largest websites in the world, with over 2 billion monthly active users and over 1 billion hours of video watched daily.\"\n",
    "file_size = len(summary.encode('utf-8'))\n",
    "\n",
    "item2 = {\n",
    "    \"doc_name\": doc_name,\n",
    "    \"doc_type\": doc_type,\n",
    "    \"link\": link,\n",
    "    \"source\": source,\n",
    "    \"created_date\": created_date,\n",
    "    \"modified_date\": modified_date,\n",
    "    \"summary\": summary,\n",
    "    \"file_size\": file_size\n",
    "}\n",
    "to_be_inserted = []\n",
    "to_be_inserted.append(item1)\n",
    "to_be_inserted.append(item2)"
   ]
  },
  {
   "cell_type": "code",
   "execution_count": 8,
   "metadata": {},
   "outputs": [
    {
     "name": "stdout",
     "output_type": "stream",
     "text": [
      "0\n"
     ]
    }
   ],
   "source": [
    "response = client.count(index=index_name)\n",
    "id = int(response['count'])\n",
    "print(id)"
   ]
  },
  {
   "cell_type": "code",
   "execution_count": 12,
   "metadata": {},
   "outputs": [
    {
     "ename": "RequestError",
     "evalue": "RequestError(400, 'mapper_parsing_exception', \"failed to parse field [created_date] of type [date] in document with id '0'. Preview of field's value: '2022-02-18T12:30:00Z'\")",
     "output_type": "error",
     "traceback": [
      "\u001b[0;31m---------------------------------------------------------------------------\u001b[0m",
      "\u001b[0;31mRequestError\u001b[0m                              Traceback (most recent call last)",
      "Cell \u001b[0;32mIn[12], line 2\u001b[0m\n\u001b[1;32m      1\u001b[0m \u001b[39mfor\u001b[39;00m body \u001b[39min\u001b[39;00m to_be_inserted:\n\u001b[0;32m----> 2\u001b[0m     client\u001b[39m.\u001b[39;49mindex(index\u001b[39m=\u001b[39;49mindex_name, \u001b[39mid\u001b[39;49m\u001b[39m=\u001b[39;49m\u001b[39mid\u001b[39;49m,body\u001b[39m=\u001b[39;49mbody)\n\u001b[1;32m      3\u001b[0m     \u001b[39mid\u001b[39m \u001b[39m+\u001b[39m\u001b[39m=\u001b[39m \u001b[39m1\u001b[39m\n",
      "File \u001b[0;32m~/Documents/Tianchen Wang/CS295/testing/missmiss20-Index-All-In-One/venv/lib/python3.8/site-packages/opensearchpy/client/utils.py:177\u001b[0m, in \u001b[0;36mquery_params.<locals>._wrapper.<locals>._wrapped\u001b[0;34m(*args, **kwargs)\u001b[0m\n\u001b[1;32m    175\u001b[0m     \u001b[39mif\u001b[39;00m p \u001b[39min\u001b[39;00m kwargs:\n\u001b[1;32m    176\u001b[0m         params[p] \u001b[39m=\u001b[39m kwargs\u001b[39m.\u001b[39mpop(p)\n\u001b[0;32m--> 177\u001b[0m \u001b[39mreturn\u001b[39;00m func(\u001b[39m*\u001b[39;49margs, params\u001b[39m=\u001b[39;49mparams, headers\u001b[39m=\u001b[39;49mheaders, \u001b[39m*\u001b[39;49m\u001b[39m*\u001b[39;49mkwargs)\n",
      "File \u001b[0;32m~/Documents/Tianchen Wang/CS295/testing/missmiss20-Index-All-In-One/venv/lib/python3.8/site-packages/opensearchpy/client/__init__.py:351\u001b[0m, in \u001b[0;36mOpenSearch.index\u001b[0;34m(self, index, body, id, params, headers)\u001b[0m\n\u001b[1;32m    347\u001b[0m         \u001b[39mraise\u001b[39;00m \u001b[39mValueError\u001b[39;00m(\u001b[39m\"\u001b[39m\u001b[39mEmpty value passed for a required argument.\u001b[39m\u001b[39m\"\u001b[39m)\n\u001b[1;32m    349\u001b[0m doc_type \u001b[39m=\u001b[39m \u001b[39m\"\u001b[39m\u001b[39m_doc\u001b[39m\u001b[39m\"\u001b[39m\n\u001b[0;32m--> 351\u001b[0m \u001b[39mreturn\u001b[39;00m \u001b[39mself\u001b[39;49m\u001b[39m.\u001b[39;49mtransport\u001b[39m.\u001b[39;49mperform_request(\n\u001b[1;32m    352\u001b[0m     \u001b[39m\"\u001b[39;49m\u001b[39mPOST\u001b[39;49m\u001b[39m\"\u001b[39;49m \u001b[39mif\u001b[39;49;00m \u001b[39mid\u001b[39;49m \u001b[39min\u001b[39;49;00m SKIP_IN_PATH \u001b[39melse\u001b[39;49;00m \u001b[39m\"\u001b[39;49m\u001b[39mPUT\u001b[39;49m\u001b[39m\"\u001b[39;49m,\n\u001b[1;32m    353\u001b[0m     _make_path(index, doc_type, \u001b[39mid\u001b[39;49m),\n\u001b[1;32m    354\u001b[0m     params\u001b[39m=\u001b[39;49mparams,\n\u001b[1;32m    355\u001b[0m     headers\u001b[39m=\u001b[39;49mheaders,\n\u001b[1;32m    356\u001b[0m     body\u001b[39m=\u001b[39;49mbody,\n\u001b[1;32m    357\u001b[0m )\n",
      "File \u001b[0;32m~/Documents/Tianchen Wang/CS295/testing/missmiss20-Index-All-In-One/venv/lib/python3.8/site-packages/opensearchpy/transport.py:407\u001b[0m, in \u001b[0;36mTransport.perform_request\u001b[0;34m(self, method, url, headers, params, body)\u001b[0m\n\u001b[1;32m    405\u001b[0m             \u001b[39mraise\u001b[39;00m e\n\u001b[1;32m    406\u001b[0m     \u001b[39melse\u001b[39;00m:\n\u001b[0;32m--> 407\u001b[0m         \u001b[39mraise\u001b[39;00m e\n\u001b[1;32m    409\u001b[0m \u001b[39melse\u001b[39;00m:\n\u001b[1;32m    410\u001b[0m     \u001b[39m# connection didn't fail, confirm it's live status\u001b[39;00m\n\u001b[1;32m    411\u001b[0m     \u001b[39mself\u001b[39m\u001b[39m.\u001b[39mconnection_pool\u001b[39m.\u001b[39mmark_live(connection)\n",
      "File \u001b[0;32m~/Documents/Tianchen Wang/CS295/testing/missmiss20-Index-All-In-One/venv/lib/python3.8/site-packages/opensearchpy/transport.py:368\u001b[0m, in \u001b[0;36mTransport.perform_request\u001b[0;34m(self, method, url, headers, params, body)\u001b[0m\n\u001b[1;32m    365\u001b[0m connection \u001b[39m=\u001b[39m \u001b[39mself\u001b[39m\u001b[39m.\u001b[39mget_connection()\n\u001b[1;32m    367\u001b[0m \u001b[39mtry\u001b[39;00m:\n\u001b[0;32m--> 368\u001b[0m     status, headers_response, data \u001b[39m=\u001b[39m connection\u001b[39m.\u001b[39;49mperform_request(\n\u001b[1;32m    369\u001b[0m         method,\n\u001b[1;32m    370\u001b[0m         url,\n\u001b[1;32m    371\u001b[0m         params,\n\u001b[1;32m    372\u001b[0m         body,\n\u001b[1;32m    373\u001b[0m         headers\u001b[39m=\u001b[39;49mheaders,\n\u001b[1;32m    374\u001b[0m         ignore\u001b[39m=\u001b[39;49mignore,\n\u001b[1;32m    375\u001b[0m         timeout\u001b[39m=\u001b[39;49mtimeout,\n\u001b[1;32m    376\u001b[0m     )\n\u001b[1;32m    378\u001b[0m     \u001b[39m# Lowercase all the header names for consistency in accessing them.\u001b[39;00m\n\u001b[1;32m    379\u001b[0m     headers_response \u001b[39m=\u001b[39m {\n\u001b[1;32m    380\u001b[0m         header\u001b[39m.\u001b[39mlower(): value \u001b[39mfor\u001b[39;00m header, value \u001b[39min\u001b[39;00m headers_response\u001b[39m.\u001b[39mitems()\n\u001b[1;32m    381\u001b[0m     }\n",
      "File \u001b[0;32m~/Documents/Tianchen Wang/CS295/testing/missmiss20-Index-All-In-One/venv/lib/python3.8/site-packages/opensearchpy/connection/http_urllib3.py:275\u001b[0m, in \u001b[0;36mUrllib3HttpConnection.perform_request\u001b[0;34m(self, method, url, params, body, timeout, ignore, headers)\u001b[0m\n\u001b[1;32m    271\u001b[0m \u001b[39mif\u001b[39;00m \u001b[39mnot\u001b[39;00m (\u001b[39m200\u001b[39m \u001b[39m<\u001b[39m\u001b[39m=\u001b[39m response\u001b[39m.\u001b[39mstatus \u001b[39m<\u001b[39m \u001b[39m300\u001b[39m) \u001b[39mand\u001b[39;00m response\u001b[39m.\u001b[39mstatus \u001b[39mnot\u001b[39;00m \u001b[39min\u001b[39;00m ignore:\n\u001b[1;32m    272\u001b[0m     \u001b[39mself\u001b[39m\u001b[39m.\u001b[39mlog_request_fail(\n\u001b[1;32m    273\u001b[0m         method, full_url, url, orig_body, duration, response\u001b[39m.\u001b[39mstatus, raw_data\n\u001b[1;32m    274\u001b[0m     )\n\u001b[0;32m--> 275\u001b[0m     \u001b[39mself\u001b[39;49m\u001b[39m.\u001b[39;49m_raise_error(\n\u001b[1;32m    276\u001b[0m         response\u001b[39m.\u001b[39;49mstatus,\n\u001b[1;32m    277\u001b[0m         raw_data,\n\u001b[1;32m    278\u001b[0m         \u001b[39mself\u001b[39;49m\u001b[39m.\u001b[39;49mget_response_headers(response)\u001b[39m.\u001b[39;49mget(\u001b[39m\"\u001b[39;49m\u001b[39mcontent-type\u001b[39;49m\u001b[39m\"\u001b[39;49m),\n\u001b[1;32m    279\u001b[0m     )\n\u001b[1;32m    281\u001b[0m \u001b[39mself\u001b[39m\u001b[39m.\u001b[39mlog_request_success(\n\u001b[1;32m    282\u001b[0m     method, full_url, url, orig_body, response\u001b[39m.\u001b[39mstatus, raw_data, duration\n\u001b[1;32m    283\u001b[0m )\n\u001b[1;32m    285\u001b[0m \u001b[39mreturn\u001b[39;00m response\u001b[39m.\u001b[39mstatus, response\u001b[39m.\u001b[39mgetheaders(), raw_data\n",
      "File \u001b[0;32m~/Documents/Tianchen Wang/CS295/testing/missmiss20-Index-All-In-One/venv/lib/python3.8/site-packages/opensearchpy/connection/base.py:300\u001b[0m, in \u001b[0;36mConnection._raise_error\u001b[0;34m(self, status_code, raw_data, content_type)\u001b[0m\n\u001b[1;32m    297\u001b[0m \u001b[39mexcept\u001b[39;00m (\u001b[39mValueError\u001b[39;00m, \u001b[39mTypeError\u001b[39;00m) \u001b[39mas\u001b[39;00m err:\n\u001b[1;32m    298\u001b[0m     logger\u001b[39m.\u001b[39mwarning(\u001b[39m\"\u001b[39m\u001b[39mUndecodable raw error response from server: \u001b[39m\u001b[39m%s\u001b[39;00m\u001b[39m\"\u001b[39m, err)\n\u001b[0;32m--> 300\u001b[0m \u001b[39mraise\u001b[39;00m HTTP_EXCEPTIONS\u001b[39m.\u001b[39mget(status_code, TransportError)(\n\u001b[1;32m    301\u001b[0m     status_code, error_message, additional_info\n\u001b[1;32m    302\u001b[0m )\n",
      "\u001b[0;31mRequestError\u001b[0m: RequestError(400, 'mapper_parsing_exception', \"failed to parse field [created_date] of type [date] in document with id '0'. Preview of field's value: '2022-02-18T12:30:00Z'\")"
     ]
    }
   ],
   "source": [
    "for body in to_be_inserted:\n",
    "    client.index(index=index_name, id=id,body=body)\n",
    "    id += 1"
   ]
  },
  {
   "cell_type": "code",
   "execution_count": 13,
   "metadata": {},
   "outputs": [
    {
     "name": "stdout",
     "output_type": "stream",
     "text": [
      "0\n"
     ]
    }
   ],
   "source": [
    "response = client.count(index=index_name)\n",
    "id = int(response['count'])\n",
    "print(id)"
   ]
  },
  {
   "attachments": {},
   "cell_type": "markdown",
   "metadata": {},
   "source": [
    "## Search Data"
   ]
  },
  {
   "cell_type": "code",
   "execution_count": 38,
   "metadata": {},
   "outputs": [
    {
     "name": "stdout",
     "output_type": "stream",
     "text": [
      "{'took': 22, 'timed_out': False, '_shards': {'total': 1, 'successful': 1, 'skipped': 0, 'failed': 0}, 'hits': {'total': {'value': 2, 'relation': 'eq'}, 'max_score': 0.33425623, 'hits': [{'_index': 'search_index', '_id': '0', '_score': 0.33425623, '_source': {'doc_name': 'doc1', 'doc_type': 'txt', 'link': 'https://www.google.com/', 'source': 'Gmail', 'date': None}}, {'_index': 'search_index', '_id': '1', '_score': 0.3085442, '_source': {'doc_name': 'doc2', 'doc_type': 'txt', 'link': 'https://www.youtube.com/', 'source': 'Gmail', 'date': None}}]}}\n",
      "<class 'dict'>\n"
     ]
    }
   ],
   "source": [
    "\n",
    "response = client.search(\n",
    "    index=index_name,\n",
    "    body={\n",
    "        \"query\": {\n",
    "            \"match\": {\n",
    "                \"doc_name\": \"Youtube\"\n",
    "            }\n",
    "        }          \n",
    "    }\n",
    ")\n",
    "print(response)\n",
    "print(type(response))"
   ]
  },
  {
   "attachments": {},
   "cell_type": "markdown",
   "metadata": {},
   "source": [
    "## Delete document from index"
   ]
  },
  {
   "cell_type": "code",
   "execution_count": 26,
   "metadata": {},
   "outputs": [
    {
     "data": {
      "text/plain": [
       "{'_index': 'search_index',\n",
       " '_id': '1',\n",
       " '_version': 2,\n",
       " 'result': 'deleted',\n",
       " '_shards': {'total': 2, 'successful': 2, 'failed': 0},\n",
       " '_seq_no': 4,\n",
       " '_primary_term': 1}"
      ]
     },
     "execution_count": 26,
     "metadata": {},
     "output_type": "execute_result"
    }
   ],
   "source": [
    "client.delete(index = index_name, id = \"1\")"
   ]
  },
  {
   "attachments": {},
   "cell_type": "markdown",
   "metadata": {},
   "source": [
    "## Delete an index"
   ]
  },
  {
   "cell_type": "code",
   "execution_count": 5,
   "metadata": {},
   "outputs": [
    {
     "data": {
      "text/plain": [
       "{'acknowledged': True}"
      ]
     },
     "execution_count": 5,
     "metadata": {},
     "output_type": "execute_result"
    }
   ],
   "source": [
    "client.indices.delete(index=index_name)"
   ]
  }
 ],
 "metadata": {
  "kernelspec": {
   "display_name": "venv",
   "language": "python",
   "name": "python3"
  },
  "language_info": {
   "codemirror_mode": {
    "name": "ipython",
    "version": 3
   },
   "file_extension": ".py",
   "mimetype": "text/x-python",
   "name": "python",
   "nbconvert_exporter": "python",
   "pygments_lexer": "ipython3",
   "version": "3.8.2"
  },
  "orig_nbformat": 4,
  "vscode": {
   "interpreter": {
    "hash": "f79aa6e90d4d8c6c9d0849b8323fb3831da52a760f7cdf2313773ad4a2d9d3dc"
   }
  }
 },
 "nbformat": 4,
 "nbformat_minor": 2
}
